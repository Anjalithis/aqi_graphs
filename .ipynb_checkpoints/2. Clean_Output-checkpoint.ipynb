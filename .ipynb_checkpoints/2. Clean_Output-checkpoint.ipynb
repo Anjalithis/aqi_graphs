{
 "cells": [
  {
   "cell_type": "code",
   "execution_count": 14,
   "metadata": {},
   "outputs": [],
   "source": [
    "import pandas as pd\n",
    "import matplotlib.pyplot as plt"
   ]
  },
  {
   "cell_type": "code",
   "execution_count": 15,
   "metadata": {},
   "outputs": [],
   "source": [
    "def avg_data_2013():\n",
    "    temp_i = 0\n",
    "    average = []\n",
    "    for rows in pd.read_csv('Data/AQI/aqi2013.csv', chunksize = 24):\n",
    "        add_var = 0\n",
    "        avg=0.0\n",
    "        data = []\n",
    "        df = pd.DataFrame(data = rows)\n",
    "        for index,row in df.iterrows():\n",
    "            data.append(row['PM2.5'])\n",
    "        for i in data:\n",
    "            if type(i) is float or type(i) is int:\n",
    "                add_var=add_var+i\n",
    "            elif type(i) is str:\n",
    "                if i!='NoData' and i!='PwrFail' and i!='---' and i!='InVld':\n",
    "                    temp=float(i)\n",
    "                    add_var = add_var+temp\n",
    "        avg = add_var/24\n",
    "        temp_i=temp_i+1\n",
    "        average.append(avg)\n",
    "    return average"
   ]
  },
  {
   "cell_type": "code",
   "execution_count": 16,
   "metadata": {},
   "outputs": [],
   "source": [
    "def avg_data_2014():\n",
    "    temp_i = 0\n",
    "    average = []\n",
    "    for rows in pd.read_csv('Data/AQI/aqi2014.csv', chunksize = 24):\n",
    "        add_var = 0\n",
    "        avg=0.0\n",
    "        data = []\n",
    "        df = pd.DataFrame(data = rows)\n",
    "        for index,row in df.iterrows():\n",
    "            data.append(row['PM2.5'])\n",
    "        for i in data:\n",
    "            if type(i) is float or type(i) is int:\n",
    "                add_var=add_var+i\n",
    "            elif type(i) is str:\n",
    "                if i!='NoData' and i!='PwrFail' and i!='---' and i!='InVld':\n",
    "                    temp=float(i)\n",
    "                    add_var = add_var+temp\n",
    "        avg = add_var/24\n",
    "        temp_i=temp_i+1\n",
    "        average.append(avg) \n",
    "    return average"
   ]
  },
  {
   "cell_type": "code",
   "execution_count": 17,
   "metadata": {},
   "outputs": [],
   "source": [
    "def avg_data_2015():\n",
    "    temp_i = 0\n",
    "    average = []\n",
    "    for rows in pd.read_csv('Data/AQI/aqi2015.csv', chunksize = 24):\n",
    "        add_var = 0\n",
    "        avg=0.0\n",
    "        data = []\n",
    "        df = pd.DataFrame(data = rows)\n",
    "        for index,row in df.iterrows():\n",
    "            data.append(row['PM2.5'])\n",
    "        for i in data:\n",
    "            if type(i) is float or type(i) is int:\n",
    "                add_var=add_var+i\n",
    "            elif type(i) is str:\n",
    "                if i!='NoData' and i!='PwrFail' and i!='---' and i!='InVld':\n",
    "                    temp=float(i)\n",
    "                    add_var = add_var+temp\n",
    "        avg = add_var/24\n",
    "        temp_i=temp_i+1\n",
    "        average.append(avg) \n",
    "    return average"
   ]
  },
  {
   "cell_type": "code",
   "execution_count": 18,
   "metadata": {},
   "outputs": [],
   "source": [
    "def avg_data_2016():\n",
    "    temp_i = 0\n",
    "    average = []\n",
    "    for rows in pd.read_csv('Data/AQI/aqi2016.csv', chunksize = 24):\n",
    "        add_var = 0\n",
    "        avg=0.0\n",
    "        data = []\n",
    "        df = pd.DataFrame(data = rows)\n",
    "        for index,row in df.iterrows():\n",
    "            data.append(row['PM2.5'])\n",
    "        for i in data:\n",
    "            if type(i) is float or type(i) is int:\n",
    "                add_var=add_var+i\n",
    "            elif type(i) is str:\n",
    "                if i!='NoData' and i!='PwrFail' and i!='---' and i!='InVld':\n",
    "                    temp=float(i)\n",
    "                    add_var = add_var+temp\n",
    "        avg = add_var/24\n",
    "        temp_i=temp_i+1\n",
    "        average.append(avg) \n",
    "    return average"
   ]
  },
  {
   "cell_type": "code",
   "execution_count": 19,
   "metadata": {},
   "outputs": [],
   "source": [
    "def avg_data_2017():\n",
    "    temp_i = 0\n",
    "    average = []\n",
    "    for rows in pd.read_csv('Data/AQI/aqi2017.csv', chunksize = 24):\n",
    "        add_var = 0\n",
    "        avg=0.0\n",
    "        data = []\n",
    "        df = pd.DataFrame(data = rows)\n",
    "        for index,row in df.iterrows():\n",
    "            data.append(row['PM2.5'])\n",
    "        for i in data:\n",
    "            if type(i) is float or type(i) is int:\n",
    "                add_var=add_var+i\n",
    "            elif type(i) is str:\n",
    "                if i!='NoData' and i!='PwrFail' and i!='---' and i!='InVld':\n",
    "                    temp=float(i)\n",
    "                    add_var = add_var+temp\n",
    "        avg = add_var/24\n",
    "        temp_i=temp_i+1\n",
    "        average.append(avg) \n",
    "    return average"
   ]
  },
  {
   "cell_type": "code",
   "execution_count": 20,
   "metadata": {},
   "outputs": [],
   "source": [
    "def avg_data_2018():\n",
    "    temp_i = 0\n",
    "    average = []\n",
    "    for rows in pd.read_csv('Data/AQI/aqi2018.csv', chunksize = 24):\n",
    "        add_var = 0\n",
    "        avg=0.0\n",
    "        data = []\n",
    "        df = pd.DataFrame(data = rows)\n",
    "        for index,row in df.iterrows():\n",
    "            data.append(row['PM2.5'])\n",
    "        for i in data:\n",
    "            if type(i) is float or type(i) is int:\n",
    "                add_var=add_var+i\n",
    "            elif type(i) is str:\n",
    "                if i!='NoData' and i!='PwrFail' and i!='---' and i!='InVld':\n",
    "                    temp=float(i)\n",
    "                    add_var = add_var+temp\n",
    "        avg = add_var/24\n",
    "        temp_i=temp_i+1\n",
    "        average.append(avg) \n",
    "    return average    "
   ]
  },
  {
   "cell_type": "code",
   "execution_count": 21,
   "metadata": {},
   "outputs": [],
   "source": [
    "if __name__==\"__main__\":\n",
    "    list2013 = avg_data_2013()\n",
    "    list2014 = avg_data_2014()\n",
    "    list2015 = avg_data_2015()\n",
    "    list2016 = avg_data_2016()\n",
    "    list2017 = avg_data_2017()\n",
    "    list2018 = avg_data_2018()\n",
    "    "
   ]
  },
  {
   "cell_type": "code",
   "execution_count": null,
   "metadata": {},
   "outputs": [],
   "source": []
  }
 ],
 "metadata": {
  "kernelspec": {
   "display_name": "Python 3",
   "language": "python",
   "name": "python3"
  },
  "language_info": {
   "codemirror_mode": {
    "name": "ipython",
    "version": 3
   },
   "file_extension": ".py",
   "mimetype": "text/x-python",
   "name": "python",
   "nbconvert_exporter": "python",
   "pygments_lexer": "ipython3",
   "version": "3.8.5"
  }
 },
 "nbformat": 4,
 "nbformat_minor": 4
}
