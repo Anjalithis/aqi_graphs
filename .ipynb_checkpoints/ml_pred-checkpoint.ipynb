{
 "cells": [
  {
   "cell_type": "code",
   "execution_count": 26,
   "id": "7e0bac83",
   "metadata": {},
   "outputs": [],
   "source": [
    "import pandas as pd\n",
    "import numpy as np\n",
    "import matplotlib.pyplot as plt \n",
    "df = pd.read_csv(\"Real_Combine.csv\")"
   ]
  },
  {
   "cell_type": "code",
   "execution_count": 27,
   "id": "7de7e19c",
   "metadata": {},
   "outputs": [
    {
     "data": {
      "text/html": [
       "<div>\n",
       "<style scoped>\n",
       "    .dataframe tbody tr th:only-of-type {\n",
       "        vertical-align: middle;\n",
       "    }\n",
       "\n",
       "    .dataframe tbody tr th {\n",
       "        vertical-align: top;\n",
       "    }\n",
       "\n",
       "    .dataframe thead th {\n",
       "        text-align: right;\n",
       "    }\n",
       "</style>\n",
       "<table border=\"1\" class=\"dataframe\">\n",
       "  <thead>\n",
       "    <tr style=\"text-align: right;\">\n",
       "      <th></th>\n",
       "      <th>T</th>\n",
       "      <th>TM</th>\n",
       "      <th>Tm</th>\n",
       "      <th>SLP</th>\n",
       "      <th>H</th>\n",
       "      <th>VV</th>\n",
       "      <th>V</th>\n",
       "      <th>VM</th>\n",
       "      <th>PM 2.5</th>\n",
       "    </tr>\n",
       "  </thead>\n",
       "  <tbody>\n",
       "    <tr>\n",
       "      <th>0</th>\n",
       "      <td>7.4</td>\n",
       "      <td>9.8</td>\n",
       "      <td>4.8</td>\n",
       "      <td>1017.6</td>\n",
       "      <td>93.0</td>\n",
       "      <td>0.5</td>\n",
       "      <td>4.3</td>\n",
       "      <td>9.4</td>\n",
       "      <td>219.720833</td>\n",
       "    </tr>\n",
       "    <tr>\n",
       "      <th>1</th>\n",
       "      <td>7.8</td>\n",
       "      <td>12.7</td>\n",
       "      <td>4.4</td>\n",
       "      <td>1018.5</td>\n",
       "      <td>87.0</td>\n",
       "      <td>0.6</td>\n",
       "      <td>4.4</td>\n",
       "      <td>11.1</td>\n",
       "      <td>182.187500</td>\n",
       "    </tr>\n",
       "    <tr>\n",
       "      <th>2</th>\n",
       "      <td>6.7</td>\n",
       "      <td>13.4</td>\n",
       "      <td>2.4</td>\n",
       "      <td>1019.4</td>\n",
       "      <td>82.0</td>\n",
       "      <td>0.6</td>\n",
       "      <td>4.8</td>\n",
       "      <td>11.1</td>\n",
       "      <td>154.037500</td>\n",
       "    </tr>\n",
       "    <tr>\n",
       "      <th>3</th>\n",
       "      <td>8.6</td>\n",
       "      <td>15.5</td>\n",
       "      <td>3.3</td>\n",
       "      <td>1018.7</td>\n",
       "      <td>72.0</td>\n",
       "      <td>0.8</td>\n",
       "      <td>8.1</td>\n",
       "      <td>20.6</td>\n",
       "      <td>223.208333</td>\n",
       "    </tr>\n",
       "    <tr>\n",
       "      <th>4</th>\n",
       "      <td>12.4</td>\n",
       "      <td>20.9</td>\n",
       "      <td>4.4</td>\n",
       "      <td>1017.3</td>\n",
       "      <td>61.0</td>\n",
       "      <td>1.3</td>\n",
       "      <td>8.7</td>\n",
       "      <td>22.2</td>\n",
       "      <td>200.645833</td>\n",
       "    </tr>\n",
       "  </tbody>\n",
       "</table>\n",
       "</div>"
      ],
      "text/plain": [
       "      T    TM   Tm     SLP     H   VV    V    VM      PM 2.5\n",
       "0   7.4   9.8  4.8  1017.6  93.0  0.5  4.3   9.4  219.720833\n",
       "1   7.8  12.7  4.4  1018.5  87.0  0.6  4.4  11.1  182.187500\n",
       "2   6.7  13.4  2.4  1019.4  82.0  0.6  4.8  11.1  154.037500\n",
       "3   8.6  15.5  3.3  1018.7  72.0  0.8  8.1  20.6  223.208333\n",
       "4  12.4  20.9  4.4  1017.3  61.0  1.3  8.7  22.2  200.645833"
      ]
     },
     "execution_count": 27,
     "metadata": {},
     "output_type": "execute_result"
    }
   ],
   "source": [
    "df.head()"
   ]
  },
  {
   "cell_type": "code",
   "execution_count": 28,
   "id": "bb5f9c44",
   "metadata": {},
   "outputs": [
    {
     "name": "stdout",
     "output_type": "stream",
     "text": [
      "<class 'pandas.core.frame.DataFrame'>\n",
      "RangeIndex: 1093 entries, 0 to 1092\n",
      "Data columns (total 9 columns):\n",
      " #   Column  Non-Null Count  Dtype  \n",
      "---  ------  --------------  -----  \n",
      " 0   T       1093 non-null   float64\n",
      " 1   TM      1093 non-null   float64\n",
      " 2   Tm      1093 non-null   float64\n",
      " 3   SLP     1093 non-null   float64\n",
      " 4   H       1093 non-null   float64\n",
      " 5   VV      1093 non-null   float64\n",
      " 6   V       1093 non-null   float64\n",
      " 7   VM      1093 non-null   float64\n",
      " 8   PM 2.5  1092 non-null   float64\n",
      "dtypes: float64(9)\n",
      "memory usage: 77.0 KB\n"
     ]
    }
   ],
   "source": [
    "df.info()"
   ]
  },
  {
   "cell_type": "code",
   "execution_count": 50,
   "id": "21c808a8",
   "metadata": {},
   "outputs": [
    {
     "data": {
      "text/html": [
       "<div>\n",
       "<style scoped>\n",
       "    .dataframe tbody tr th:only-of-type {\n",
       "        vertical-align: middle;\n",
       "    }\n",
       "\n",
       "    .dataframe tbody tr th {\n",
       "        vertical-align: top;\n",
       "    }\n",
       "\n",
       "    .dataframe thead th {\n",
       "        text-align: right;\n",
       "    }\n",
       "</style>\n",
       "<table border=\"1\" class=\"dataframe\">\n",
       "  <thead>\n",
       "    <tr style=\"text-align: right;\">\n",
       "      <th></th>\n",
       "      <th>T</th>\n",
       "      <th>TM</th>\n",
       "      <th>Tm</th>\n",
       "      <th>SLP</th>\n",
       "      <th>H</th>\n",
       "      <th>VV</th>\n",
       "      <th>V</th>\n",
       "      <th>VM</th>\n",
       "      <th>PM 2.5</th>\n",
       "    </tr>\n",
       "  </thead>\n",
       "  <tbody>\n",
       "    <tr>\n",
       "      <th>0</th>\n",
       "      <td>1</td>\n",
       "      <td>0</td>\n",
       "      <td>5</td>\n",
       "      <td>218</td>\n",
       "      <td>70</td>\n",
       "      <td>1</td>\n",
       "      <td>20</td>\n",
       "      <td>4</td>\n",
       "      <td>219.720833</td>\n",
       "    </tr>\n",
       "    <tr>\n",
       "      <th>1</th>\n",
       "      <td>2</td>\n",
       "      <td>1</td>\n",
       "      <td>4</td>\n",
       "      <td>227</td>\n",
       "      <td>64</td>\n",
       "      <td>2</td>\n",
       "      <td>21</td>\n",
       "      <td>5</td>\n",
       "      <td>182.187500</td>\n",
       "    </tr>\n",
       "    <tr>\n",
       "      <th>2</th>\n",
       "      <td>0</td>\n",
       "      <td>2</td>\n",
       "      <td>1</td>\n",
       "      <td>236</td>\n",
       "      <td>59</td>\n",
       "      <td>2</td>\n",
       "      <td>23</td>\n",
       "      <td>5</td>\n",
       "      <td>154.037500</td>\n",
       "    </tr>\n",
       "    <tr>\n",
       "      <th>3</th>\n",
       "      <td>3</td>\n",
       "      <td>4</td>\n",
       "      <td>2</td>\n",
       "      <td>229</td>\n",
       "      <td>49</td>\n",
       "      <td>3</td>\n",
       "      <td>41</td>\n",
       "      <td>10</td>\n",
       "      <td>223.208333</td>\n",
       "    </tr>\n",
       "    <tr>\n",
       "      <th>4</th>\n",
       "      <td>19</td>\n",
       "      <td>33</td>\n",
       "      <td>4</td>\n",
       "      <td>215</td>\n",
       "      <td>38</td>\n",
       "      <td>6</td>\n",
       "      <td>44</td>\n",
       "      <td>11</td>\n",
       "      <td>200.645833</td>\n",
       "    </tr>\n",
       "    <tr>\n",
       "      <th>...</th>\n",
       "      <td>...</td>\n",
       "      <td>...</td>\n",
       "      <td>...</td>\n",
       "      <td>...</td>\n",
       "      <td>...</td>\n",
       "      <td>...</td>\n",
       "      <td>...</td>\n",
       "      <td>...</td>\n",
       "      <td>...</td>\n",
       "    </tr>\n",
       "    <tr>\n",
       "      <th>1088</th>\n",
       "      <td>68</td>\n",
       "      <td>57</td>\n",
       "      <td>57</td>\n",
       "      <td>197</td>\n",
       "      <td>33</td>\n",
       "      <td>9</td>\n",
       "      <td>82</td>\n",
       "      <td>13</td>\n",
       "      <td>288.416667</td>\n",
       "    </tr>\n",
       "    <tr>\n",
       "      <th>1089</th>\n",
       "      <td>65</td>\n",
       "      <td>67</td>\n",
       "      <td>52</td>\n",
       "      <td>201</td>\n",
       "      <td>31</td>\n",
       "      <td>12</td>\n",
       "      <td>48</td>\n",
       "      <td>11</td>\n",
       "      <td>256.833333</td>\n",
       "    </tr>\n",
       "    <tr>\n",
       "      <th>1090</th>\n",
       "      <td>30</td>\n",
       "      <td>62</td>\n",
       "      <td>58</td>\n",
       "      <td>193</td>\n",
       "      <td>72</td>\n",
       "      <td>2</td>\n",
       "      <td>44</td>\n",
       "      <td>7</td>\n",
       "      <td>169.000000</td>\n",
       "    </tr>\n",
       "    <tr>\n",
       "      <th>1091</th>\n",
       "      <td>52</td>\n",
       "      <td>51</td>\n",
       "      <td>43</td>\n",
       "      <td>211</td>\n",
       "      <td>55</td>\n",
       "      <td>5</td>\n",
       "      <td>37</td>\n",
       "      <td>8</td>\n",
       "      <td>186.041667</td>\n",
       "    </tr>\n",
       "    <tr>\n",
       "      <th>1092</th>\n",
       "      <td>52</td>\n",
       "      <td>54</td>\n",
       "      <td>35</td>\n",
       "      <td>215</td>\n",
       "      <td>45</td>\n",
       "      <td>6</td>\n",
       "      <td>39</td>\n",
       "      <td>9</td>\n",
       "      <td>185.583333</td>\n",
       "    </tr>\n",
       "  </tbody>\n",
       "</table>\n",
       "<p>1092 rows × 9 columns</p>\n",
       "</div>"
      ],
      "text/plain": [
       "       T  TM  Tm  SLP   H  VV   V  VM      PM 2.5\n",
       "0      1   0   5  218  70   1  20   4  219.720833\n",
       "1      2   1   4  227  64   2  21   5  182.187500\n",
       "2      0   2   1  236  59   2  23   5  154.037500\n",
       "3      3   4   2  229  49   3  41  10  223.208333\n",
       "4     19  33   4  215  38   6  44  11  200.645833\n",
       "...   ..  ..  ..  ...  ..  ..  ..  ..         ...\n",
       "1088  68  57  57  197  33   9  82  13  288.416667\n",
       "1089  65  67  52  201  31  12  48  11  256.833333\n",
       "1090  30  62  58  193  72   2  44   7  169.000000\n",
       "1091  52  51  43  211  55   5  37   8  186.041667\n",
       "1092  52  54  35  215  45   6  39   9  185.583333\n",
       "\n",
       "[1092 rows x 9 columns]"
      ]
     },
     "execution_count": 50,
     "metadata": {},
     "output_type": "execute_result"
    }
   ],
   "source": [
    "df['T'].value_counts()\n",
    "df.replace([np.inf, -np.inf], np.nan,inplace=True)\n",
    "df.dropna(inplace=True)\n",
    "df"
   ]
  },
  {
   "cell_type": "code",
   "execution_count": 51,
   "id": "0ce20978",
   "metadata": {
    "scrolled": true
   },
   "outputs": [
    {
     "data": {
      "text/plain": [
       "array([  1,   2,   0,   3,  19,  49,  26,  32,  21,  14,  17,  18,  28,\n",
       "        38,  39,  52,  74,  35,  36,  37,  62,  68,  70,  53,  57,  80,\n",
       "        60,  64,  88,  69,  77, 105, 104, 117, 115, 109, 123, 143, 134,\n",
       "       113, 111, 124, 131, 132, 128, 167, 164, 183, 170, 154, 155, 165,\n",
       "       177, 152, 171, 186, 169, 200, 212, 181, 201, 178, 229, 232, 238,\n",
       "       224, 207, 191, 196, 213, 220, 175, 176, 202, 182, 184, 210, 188,\n",
       "       190, 189, 140, 163, 157, 172, 162, 194, 156, 153, 146, 173, 149,\n",
       "       193, 192, 174, 168, 159, 136, 158, 161, 151, 166, 147, 139, 127,\n",
       "       125, 118, 120, 103,  91,  85,  76,  78,  65,  63,  58,  67,  92,\n",
       "        93,  51,  54,  43,  44,  27,  24,  11,  13,  30,  15,  34,  55,\n",
       "        42,  73,  82,  29,  23,  20,  40,  50,  66,  71,  83, 102,  94,\n",
       "        97,  95, 129, 112, 119, 126, 144, 133, 142, 187, 218, 215, 179,\n",
       "       141, 195, 216, 242, 239, 240, 233, 205, 217, 211, 219, 227, 204,\n",
       "       180, 197, 198, 208, 148, 121, 122, 130, 106, 116,  72,  87,  59,\n",
       "        47,  31,  12,   5,   4,  10,   8,   6,   7,   9,  16,  25,  61,\n",
       "        56,  46, 108, 107,  98,  84,  79,  81,  96, 137, 160, 225, 226,\n",
       "       221, 209, 230, 237, 138, 199, 206, 185, 100,  75,  86,  41,  33,\n",
       "        45,  22,  48, 110, 114, 135, 203, 241, 222, 234, 231, 235, 236,\n",
       "       228, 223, 214, 145, 150, 101,  90,  89,  99])"
      ]
     },
     "execution_count": 51,
     "metadata": {},
     "output_type": "execute_result"
    }
   ],
   "source": [
    "from sklearn.preprocessing import LabelEncoder\n",
    "le_temp = LabelEncoder()\n",
    "df['T'] = le_temp.fit_transform(df['T'])\n",
    "df['T'].unique()"
   ]
  },
  {
   "cell_type": "code",
   "execution_count": 52,
   "id": "1f1d26c9",
   "metadata": {},
   "outputs": [
    {
     "data": {
      "text/plain": [
       "array([  0,   1,   2,   4,  33,  69,  34,  49,  19,  26,  35,  37,  43,\n",
       "        42,  57,  80,  39,  40,  71,  84,  52,  55,  86,  59,  82,  99,\n",
       "        78,  85,  95, 117, 128, 146, 138, 111, 127, 156, 151, 108, 120,\n",
       "       125, 168, 178, 182, 185, 174, 172, 186, 192, 191, 198, 194, 189,\n",
       "       212, 220, 183, 203, 181, 233, 236, 235, 230, 224, 210, 208, 229,\n",
       "       207, 163, 190, 213, 199, 165, 179, 158, 166, 162, 175, 180, 152,\n",
       "       159, 145, 157, 169, 119, 154, 118, 139, 143, 173, 150, 164, 167,\n",
       "       171, 176, 170, 149, 153, 148, 134, 135, 140, 137, 132, 124, 121,\n",
       "       112, 116, 101,  97,  88,  73,  79,  83, 100, 102,  96,  70,  62,\n",
       "        66,  47,  24,   6,  29,  30,  11,  16,  17,  25,  31,  44,  46,\n",
       "        28,  61,  81,  23,  14,  53,  63,  36,  41,  74,  76, 103,  93,\n",
       "       109, 105, 136, 104, 160, 187, 131, 144, 193, 226, 219, 200, 130,\n",
       "       197, 218, 204, 234, 237, 214, 216, 228, 196, 188, 209, 221, 147,\n",
       "       184, 161, 155, 177, 115, 141, 106, 122, 123, 126,  92,  91,  32,\n",
       "        27,  13,  12,   7,  10,  21,   9,   3,   8,  20,  18,  38,  56,\n",
       "        72,  90,  58,  98, 113, 201, 195, 225, 217, 223, 227, 222, 202,\n",
       "       110,  94,  87,  45,  22,  48,  68,  50,  64,   5,  15,  89,  77,\n",
       "       114, 133, 142, 107, 129, 205, 211, 232, 231, 215, 206,  75,  65,\n",
       "        60,  51,  67,  54])"
      ]
     },
     "execution_count": 52,
     "metadata": {},
     "output_type": "execute_result"
    }
   ],
   "source": [
    "le_tmax = LabelEncoder()\n",
    "df['TM'] = le_tmax.fit_transform(df['TM'])\n",
    "df['TM'].unique()"
   ]
  },
  {
   "cell_type": "code",
   "execution_count": 53,
   "id": "378e73d0",
   "metadata": {},
   "outputs": [
    {
     "data": {
      "text/plain": [
       "array([  5,   4,   1,   2,  45,  37,  16,  22,  13,  12,   9,  14,  19,\n",
       "        20,  25,  63,  40,  39,  29,  30,  48,  47,  69,  57,  46,  64,\n",
       "        53,  43,  86,  65,  61,  73,  89,  76,  75,  83, 109,  80, 107,\n",
       "       105,  97,  99, 106, 111, 113, 125, 139, 136, 141, 126, 127, 131,\n",
       "       158, 152, 163, 142, 149, 138, 172, 157, 187, 167, 168, 178, 210,\n",
       "       198, 216, 211, 215, 186, 185, 206, 176, 209, 196, 166, 191, 190,\n",
       "       194, 202, 188, 197, 177, 200, 162, 159, 182, 181, 193, 192, 173,\n",
       "       180, 179, 164, 175, 189, 170, 161, 154, 171, 160, 151, 134, 121,\n",
       "       104, 102, 103, 108, 112,  94,  78,  81,  66,  55,  58,  49,  77,\n",
       "        84,  67,  36,  28,  60,  24,  15,   6,   7,  34,  41,  31,  35,\n",
       "        59,  44,  18,  85,  71,  50,  70,  68,  93,  95, 118, 122,  98,\n",
       "       133, 147, 137, 129, 119, 114, 130, 143, 117, 184, 219, 204, 214,\n",
       "       148, 174, 220, 222, 155, 212, 203, 199, 208, 183, 146, 165, 169,\n",
       "       144,  96, 120,  91,  90, 100, 101,  51,  27,  72,  23,  21,  11,\n",
       "        33,   3,  10,  17,  38,  56,  82,  79, 128, 110, 132, 156, 145,\n",
       "       207, 195, 213, 153, 140, 150,  88,  92,  62,  74,   0,   8,  26,\n",
       "        54,  52,  42, 115, 123, 116, 135, 221, 218, 217, 205, 201, 124,\n",
       "        87,  32])"
      ]
     },
     "execution_count": 53,
     "metadata": {},
     "output_type": "execute_result"
    }
   ],
   "source": [
    "le_tmin= LabelEncoder()\n",
    "df['Tm'] = le_tmin.fit_transform(df['Tm'])\n",
    "df['Tm'].unique()"
   ]
  },
  {
   "cell_type": "code",
   "execution_count": 54,
   "id": "7c7a661b",
   "metadata": {},
   "outputs": [
    {
     "data": {
      "text/plain": [
       "array([70, 64, 59, 49, 38, 56, 53, 46, 37, 47, 40, 50, 58, 57, 41, 48, 44,\n",
       "       52, 51, 39, 31, 35, 34, 30, 32, 45, 29, 28, 24, 27, 33,  7, 15, 11,\n",
       "       14, 22, 12, 13, 25,  2,  6,  9, 21,  3, 18, 36, 26, 55, 54, 63, 60,\n",
       "       65, 67, 42, 43, 62, 68, 72, 61, 69, 66, 75, 73, 74, 17, 16, 10, 20,\n",
       "       23,  8, 71, 19,  1,  4,  5,  0])"
      ]
     },
     "execution_count": 54,
     "metadata": {},
     "output_type": "execute_result"
    }
   ],
   "source": [
    "le_humidity = LabelEncoder()\n",
    "df['H'] = le_humidity.fit_transform(df['H'])\n",
    "df['H'].unique()"
   ]
  },
  {
   "cell_type": "code",
   "execution_count": 55,
   "id": "5df637fa",
   "metadata": {},
   "outputs": [
    {
     "data": {
      "text/plain": [
       "array([218, 227, 236, 229, 215, 175, 194, 205, 248, 242, 246, 241, 237,\n",
       "       224, 225, 216, 214, 196, 226, 213, 210, 201, 181, 157, 198, 199,\n",
       "       190, 204, 197, 189, 144, 151, 174, 203, 133, 136, 134, 138, 135,\n",
       "       143, 104, 113, 108, 127, 121,  92,  81,  86, 123, 126, 131, 119,\n",
       "        60,  46,  72,  66,  89,  62,  45,  44,  34,  37,  41,  49,  32,\n",
       "        21,  10,  39,  30,  43,  29,  13,  22,  14,  28,  53,  18,  36,\n",
       "         8,  17,  19,  35,  48,  70,  58,  52,  55,  50,  88,  79, 100,\n",
       "       125, 122,  96,  67,  77, 106, 118, 110, 132, 139, 147, 152, 128,\n",
       "       160, 155, 153, 183, 178, 202, 195, 208, 186, 207, 169, 171, 163,\n",
       "       187, 177, 165, 211, 245, 228, 243, 221, 238, 252, 244, 240, 233,\n",
       "       230, 235, 239, 141, 158, 164, 179, 162, 209, 191, 185, 176, 212,\n",
       "       206, 154, 161, 130, 114, 109, 150, 145, 140, 159, 112, 120,  69,\n",
       "        95,  73,  57, 117,  93,  75,  82,  85,   4,   3,   1,  26,  24,\n",
       "         2,   0,  61,  31,  25,  16,   9,  20,  15,  71,  51,  33,  23,\n",
       "        11,  65,  78,  63,  87,  94,  80, 129, 148, 146, 156, 168, 188,\n",
       "       166, 192, 180, 172, 184, 193, 234, 251, 223, 219, 217, 232, 222,\n",
       "       167, 173, 247, 124,  99,  98, 149,  91, 111, 115,  84,  68, 116,\n",
       "        74,  56,  59,  47,  40,  54,   7,   6,  42,  38,   5, 107,  90,\n",
       "       105, 170, 231, 250, 249, 200, 137, 103,  76,  27,  64,  12, 102,\n",
       "        83,  97, 101, 142, 220, 182])"
      ]
     },
     "execution_count": 55,
     "metadata": {},
     "output_type": "execute_result"
    }
   ],
   "source": [
    "le_SLP = LabelEncoder()\n",
    "df['SLP'] = le_SLP.fit_transform(df['SLP'])\n",
    "df['SLP'].unique()"
   ]
  },
  {
   "cell_type": "code",
   "execution_count": 56,
   "id": "53a75968",
   "metadata": {},
   "outputs": [
    {
     "data": {
      "text/plain": [
       "array([20, 21, 23, 41, 44,  5,  0, 30, 42, 40, 33, 36,  8,  9,  4,  6, 48,\n",
       "       56, 47, 24, 51, 29, 25, 22, 93, 83, 37, 18, 58, 72, 61, 82, 67, 32,\n",
       "       38, 46, 54, 31, 80, 17, 70, 59, 62, 52, 39, 16, 27, 77, 69, 68, 43,\n",
       "       64, 45, 53, 11, 35, 50, 60, 14, 26, 84, 76, 74, 79, 34, 12,  7, 49,\n",
       "       28, 15,  3, 13,  2,  1, 10, 66, 65, 57, 19, 87, 89, 92, 90, 75, 63,\n",
       "       81, 88, 85, 78, 73, 91, 86, 55, 71])"
      ]
     },
     "execution_count": 56,
     "metadata": {},
     "output_type": "execute_result"
    }
   ],
   "source": [
    "le_V = LabelEncoder()\n",
    "df['V'] = le_V.fit_transform(df['V'])\n",
    "df['V'].unique()"
   ]
  },
  {
   "cell_type": "code",
   "execution_count": 57,
   "id": "b9a9d0ed",
   "metadata": {},
   "outputs": [
    {
     "data": {
      "text/plain": [
       "array([ 1,  2,  3,  6,  9,  5, 11, 10,  8, 15, 14,  7, 13, 12, 17,  4,  0,\n",
       "       16, 19, 18, 21, 20])"
      ]
     },
     "execution_count": 57,
     "metadata": {},
     "output_type": "execute_result"
    }
   ],
   "source": [
    "le_VV = LabelEncoder()\n",
    "df['VV'] = le_VV.fit_transform(df['VV'])\n",
    "df['VV'].unique()"
   ]
  },
  {
   "cell_type": "code",
   "execution_count": 58,
   "id": "d5eed388",
   "metadata": {},
   "outputs": [
    {
     "data": {
      "text/plain": [
       "array([ 4,  5, 10, 11,  3,  1,  8,  9,  7, 18, 16, 13, 14,  6, 12, 25, 24,\n",
       "        2, 21, 26, 22, 23, 19, 17,  0, 20, 15])"
      ]
     },
     "execution_count": 58,
     "metadata": {},
     "output_type": "execute_result"
    }
   ],
   "source": [
    "le_VM = LabelEncoder()\n",
    "df['VM'] = le_VM.fit_transform(df['VM'])\n",
    "df['VM'].unique()"
   ]
  },
  {
   "cell_type": "code",
   "execution_count": 59,
   "id": "fe611a7f",
   "metadata": {},
   "outputs": [],
   "source": [
    "x = df.drop(\"PM 2.5\", axis=1)\n",
    "y = df[\"PM 2.5\"]\n"
   ]
  },
  {
   "cell_type": "code",
   "execution_count": 60,
   "id": "0cd8686b",
   "metadata": {},
   "outputs": [
    {
     "data": {
      "text/plain": [
       "LinearRegression()"
      ]
     },
     "execution_count": 60,
     "metadata": {},
     "output_type": "execute_result"
    }
   ],
   "source": [
    "from sklearn.linear_model import LinearRegression\n",
    "linear_reg = LinearRegression()\n",
    "linear_reg.fit(x,y.values)\n"
   ]
  },
  {
   "cell_type": "code",
   "execution_count": 61,
   "id": "6b442434",
   "metadata": {},
   "outputs": [
    {
     "data": {
      "text/plain": [
       "DecisionTreeRegressor(random_state=0)"
      ]
     },
     "execution_count": 61,
     "metadata": {},
     "output_type": "execute_result"
    }
   ],
   "source": [
    "from sklearn.tree import DecisionTreeRegressor\n",
    "dec_tree_reg = DecisionTreeRegressor(random_state=0)\n",
    "dec_tree_reg.fit(x,y.values)"
   ]
  },
  {
   "cell_type": "code",
   "execution_count": 63,
   "id": "9a50e0ed",
   "metadata": {},
   "outputs": [],
   "source": [
    "y_pred = dec_tree_reg.predict(x)"
   ]
  },
  {
   "cell_type": "code",
   "execution_count": 64,
   "id": "aa0fe802",
   "metadata": {},
   "outputs": [
    {
     "name": "stdout",
     "output_type": "stream",
     "text": [
      "1.4897023514804435e-15\n"
     ]
    }
   ],
   "source": [
    "from sklearn.metrics import mean_squared_error, mean_absolute_error\n",
    "error = np.sqrt(mean_squared_error(y,y_pred))\n",
    "print(error)"
   ]
  },
  {
   "cell_type": "code",
   "execution_count": 68,
   "id": "32488408",
   "metadata": {},
   "outputs": [
    {
     "data": {
      "text/plain": [
       "GridSearchCV(estimator=DecisionTreeRegressor(random_state=0),\n",
       "             param_grid={'max_depth': [None, 2, 4, 6, 8, 10, 12]},\n",
       "             scoring='neg_mean_squared_error')"
      ]
     },
     "execution_count": 68,
     "metadata": {},
     "output_type": "execute_result"
    }
   ],
   "source": [
    "from sklearn.model_selection import GridSearchCV\n",
    "max_depth = [None, 2, 4, 6, 8, 10, 12]\n",
    "parameters = {\"max_depth\": max_depth}\n",
    "regressor = DecisionTreeRegressor(random_state=0)\n",
    "gs = GridSearchCV(regressor, parameters, scoring=\"neg_mean_squared_error\")\n",
    "gs.fit(x, y.values)\n"
   ]
  },
  {
   "cell_type": "raw",
   "id": "9413b919",
   "metadata": {},
   "source": [
    "regressor = gs.best_estimator_\n",
    "regressor.fit(x, y.values)\n",
    "y_pred = regressor.predict(x)\n",
    "error = np.sqrt(mean_squared_error(y,y_pred))\n",
    "print(error)"
   ]
  },
  {
   "cell_type": "code",
   "execution_count": null,
   "id": "b854113b",
   "metadata": {},
   "outputs": [],
   "source": []
  }
 ],
 "metadata": {
  "kernelspec": {
   "display_name": "venv",
   "language": "python",
   "name": "venv"
  },
  "language_info": {
   "codemirror_mode": {
    "name": "ipython",
    "version": 3
   },
   "file_extension": ".py",
   "mimetype": "text/x-python",
   "name": "python",
   "nbconvert_exporter": "python",
   "pygments_lexer": "ipython3",
   "version": "3.8.10"
  }
 },
 "nbformat": 4,
 "nbformat_minor": 5
}
